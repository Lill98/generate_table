{
 "cells": [
  {
   "cell_type": "code",
   "execution_count": 1,
   "metadata": {},
   "outputs": [],
   "source": [
    "import os\n"
   ]
  },
  {
   "cell_type": "code",
   "execution_count": null,
   "metadata": {},
   "outputs": [],
   "source": [
    "root_dir = \"//Users/lill98/Documents/EHR/data/generate_table/TIES_DataGeneration/gentables/images\"\n",
    "for image in os.listdir(root_dir):\n",
    "    if \"box\" in image:\n",
    "        path_image = os.path.join(root_dir, image)\n",
    "        os.remove(path_image)"
   ]
  },
  {
   "cell_type": "code",
   "execution_count": null,
   "metadata": {},
   "outputs": [],
   "source": []
  }
 ],
 "metadata": {
  "interpreter": {
   "hash": "8e0fc1e175c2d683ff15611826777beb3ffa4081c69026692d50b4c0b0ce18b3"
  },
  "kernelspec": {
   "display_name": "Python 3.8.12 ('dmec_v2')",
   "language": "python",
   "name": "python3"
  },
  "language_info": {
   "codemirror_mode": {
    "name": "ipython",
    "version": 3
   },
   "file_extension": ".py",
   "mimetype": "text/x-python",
   "name": "python",
   "nbconvert_exporter": "python",
   "pygments_lexer": "ipython3",
   "version": "3.8.12"
  },
  "orig_nbformat": 4
 },
 "nbformat": 4,
 "nbformat_minor": 2
}
